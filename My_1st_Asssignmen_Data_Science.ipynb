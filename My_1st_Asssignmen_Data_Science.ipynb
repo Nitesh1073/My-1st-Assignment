{
  "nbformat": 4,
  "nbformat_minor": 0,
  "metadata": {
    "colab": {
      "provenance": []
    },
    "kernelspec": {
      "name": "python3",
      "display_name": "Python 3"
    },
    "language_info": {
      "name": "python"
    }
  },
  "cells": [
    {
      "cell_type": "markdown",
      "source": [
        "Assignment Questions and answer given below."
      ],
      "metadata": {
        "id": "6XyM3f-4DZ2n"
      }
    },
    {
      "cell_type": "markdown",
      "source": [
        "1.What is Python, and why is it popular?\n",
        "\n",
        "\n",
        "           "
      ],
      "metadata": {
        "id": "XCBgWsAvDpxe"
      }
    },
    {
      "cell_type": "markdown",
      "source": [
        " Answer -> Python is a set of instructions that we give in the form of a Program to our computer to perform any specific task. Created by Guido van Rossum and released in 1991, It is a Programming language having properties like it is interpreted, object-oriented and it is high-level too. Due to its beginner-friendly syntax, it became a clear choice for beginners to start their programming journey.\n",
        "\n",
        "  Python is popular because it is  -\n",
        "       1. Readability and Ease of Learning\n",
        "       2. Extensive Libraries and Frameworks\n",
        "       3. Demand in Emerging Technologies\n",
        "       4. Strong Community Support,etc.\n"
      ],
      "metadata": {
        "id": "uTcxz8pV__vE"
      }
    },
    {
      "cell_type": "markdown",
      "source": [
        "2.What is an interpreter in Python ?"
      ],
      "metadata": {
        "id": "AcBTC4qa_-es"
      }
    },
    {
      "cell_type": "markdown",
      "source": [
        "Answer-> The Python interpreter is a vital tool that enables developers to write and execute Python code across various platforms. Understanding its function and the different implementations available can help you choose the right environment for your projects."
      ],
      "metadata": {
        "id": "-PH5b4GM9aYh"
      }
    },
    {
      "cell_type": "markdown",
      "source": [
        "3.What are pre-defined keywords in Python ?"
      ],
      "metadata": {
        "id": "ZtVzyVzUgAfL"
      }
    },
    {
      "cell_type": "markdown",
      "source": [
        "Answer-> In Python, pre-dfine keyword are the keyword which are reserved words that have special meanings and purposes within the language. They are fundamental to Python's syntax and cannot be used as identifiers (such as variable names, function names, or class names). Attempting to use a keyword as an identifier will result in a SyntaxError."
      ],
      "metadata": {
        "id": "8rRfYMXlgJlo"
      }
    },
    {
      "cell_type": "markdown",
      "source": [
        "4.Can keywords be used as variable name ?"
      ],
      "metadata": {
        "id": "LNCZRqwj6UIi"
      }
    },
    {
      "cell_type": "markdown",
      "source": [
        "Answer-> No,keywords can not be used as variabe name."
      ],
      "metadata": {
        "id": "whLmarHX6chR"
      }
    },
    {
      "cell_type": "markdown",
      "source": [
        "5.What is mutability in Python?"
      ],
      "metadata": {
        "id": "SIQEQNRn6q0S"
      }
    },
    {
      "cell_type": "markdown",
      "source": [
        "Answer->  In Python, mutability refers to an object's ability to be modified after its creation. Mutable objects can have their content changed without altering their identity, while immutable objects cannot be modified once they are created. Understanding this distinction is crucial for writing efficient and error-free Python code."
      ],
      "metadata": {
        "id": "LKPGn5UQ8wIS"
      }
    },
    {
      "cell_type": "markdown",
      "source": [
        "6.Why are lists mutable, but tuples are immutable?"
      ],
      "metadata": {
        "id": "X4EuDtGC96H9"
      }
    },
    {
      "cell_type": "markdown",
      "source": [
        "Answer-> In Python, lists and tuples are both sequence data types used to store collections of items. The primary distinction between them lies in their mutability:\n",
        "\n",
        "  *Lists are mutable, meaning their contents can be changed after creation. You can add, remove, or modify elements within a list. This flexibility makes lists suitable for scenarios where the collection of items needs to be altered during the program's execution.\n",
        "\n",
        "\n",
        "  *Tuples are immutable, meaning once they are created, their contents cannot be changed. You cannot add, remove, or modify elements in a tuple. This immutability ensures that the data remains constant throughout the program, which can be beneficial for data integrity and performance optimization."
      ],
      "metadata": {
        "id": "QE2Nvn1E9aZs"
      }
    },
    {
      "cell_type": "markdown",
      "source": [
        "7.What is the difference between “==” and “is” operators in Python?"
      ],
      "metadata": {
        "id": "OMEHc3xv9ane"
      }
    },
    {
      "cell_type": "markdown",
      "source": [
        "Answer-> The '==' operator checks whether the values of two objects are equal. It evaluates to True if the objects have the same content, regardless of whether they are the same object in memory. Were as 'is' operator checks whether two references point to the same object in memory. It evaluates to True if both variables refer to the exact same object."
      ],
      "metadata": {
        "id": "qwNWiMmv-rwg"
      }
    },
    {
      "cell_type": "markdown",
      "source": [
        " 8.What are logical operators in Python?"
      ],
      "metadata": {
        "id": "QP579M-z_THh"
      }
    },
    {
      "cell_type": "markdown",
      "source": [
        "Answer->In Python, logical operators are used to perform logical operations on boolean expressions. The result of a logical operation is either True or False."
      ],
      "metadata": {
        "id": "lZheROtD_cAc"
      }
    },
    {
      "cell_type": "markdown",
      "source": [
        "9.What is type casting in Python?"
      ],
      "metadata": {
        "id": "rclXJUNueRaR"
      }
    },
    {
      "cell_type": "markdown",
      "source": [
        "Answer->Type casting in Python refers to converting one data type into another. This is useful when you want to perform operations that require data to be in a specific format. Python supports both implicit and explicit type casting."
      ],
      "metadata": {
        "id": "mznm5zz7eRlY"
      }
    },
    {
      "cell_type": "markdown",
      "source": [
        "10.What is the difference between implicit and explicit type casting?"
      ],
      "metadata": {
        "id": "t0OkOXqFeepS"
      }
    },
    {
      "cell_type": "markdown",
      "source": [
        "Answer->In this, implict method, Python converts the datatype into another datatype automatically. Users don't have to involve in this process.were as in explicit Python needs user involvement to convert the variable data type into the required data type."
      ],
      "metadata": {
        "id": "dH5tmVikelE4"
      }
    },
    {
      "cell_type": "markdown",
      "source": [
        "11.What is the purpose of conditional statements in Python?"
      ],
      "metadata": {
        "id": "B1lVFhbyiA9c"
      }
    },
    {
      "cell_type": "markdown",
      "source": [
        "Answer-> A conditional statement in python, also called a condition constructs, is a statement that accommodates a condition inside itself. This condition is constructed using the bitwise, boolean, and comparison operators in Python.A conditional statement always generates a boolean output that is either true or false."
      ],
      "metadata": {
        "id": "emNlmQ23hd3A"
      }
    },
    {
      "cell_type": "markdown",
      "source": [
        "12. How does the elif statement work?"
      ],
      "metadata": {
        "id": "c0I5NV1uiOIJ"
      }
    },
    {
      "cell_type": "markdown",
      "source": [
        "Answer->The 'elif' statement in Python is an essential part of the if-else structure, used for handling multiple conditions. It's a combination of 'else' and 'if', which can be read as 'else if'. It allows the program to check several conditions sequentially and execute a specific block of code as soon as a true condition is found."
      ],
      "metadata": {
        "id": "Q9-eu2xviRj9"
      }
    },
    {
      "cell_type": "markdown",
      "source": [
        "13.What is the difference between for and while loops?"
      ],
      "metadata": {
        "id": "QQWngxSojP5v"
      }
    },
    {
      "cell_type": "markdown",
      "source": [
        "Answer-> The for loop is used when you know in advance how many times you want to execute the block of code.It iterates over a sequence and executes the block of code for each item in the sequence. were as The while loop is used when you don't know in advance how many times you want to execute the block of code. It continues to execute as long as the specified condition is true.\n",
        "It's important to make sure that the condition eventually becomes false; otherwise, the loop will run indefinitely, resulting in an infinite loop."
      ],
      "metadata": {
        "id": "tXzEFuyNjfTv"
      }
    },
    {
      "cell_type": "markdown",
      "source": [
        "14. Describe a scenario where a while loop is more suitable than a for loop."
      ],
      "metadata": {
        "id": "yCVdJL3mlZvZ"
      }
    },
    {
      "cell_type": "markdown",
      "source": [
        "Answer->Use a while loop when:\n",
        "- You don't know how many times to repeat a task.\n",
        "- You need to repeat a task based on a condition.\n",
        "\n",
        "Example (Python):\n",
        "\n",
        "i = 0\n",
        "while i < 10:  \n",
        "#condition\n",
        "    print(i)\n",
        "    i += 1\n",
        "\n",
        "Replace the condition with a dynamic check, like user input or a changing value."
      ],
      "metadata": {
        "id": "GZYcPALVlcO4"
      }
    },
    {
      "cell_type": "markdown",
      "source": [
        "PRACTICAL QUESTION AND ANSWER"
      ],
      "metadata": {
        "id": "EcpGpJtBlfJM"
      }
    },
    {
      "cell_type": "markdown",
      "source": [
        "1. Write a Python program to print \"Hello, World!"
      ],
      "metadata": {
        "id": "e1CNoQw7lyc6"
      }
    },
    {
      "cell_type": "code",
      "source": [
        "#ANSWER\n",
        "print(\"Hello, World!\")"
      ],
      "metadata": {
        "colab": {
          "base_uri": "https://localhost:8080/"
        },
        "id": "1__luGPul99s",
        "outputId": "daa30a46-d470-4131-c66a-15532a3cb1c1"
      },
      "execution_count": 1,
      "outputs": [
        {
          "output_type": "stream",
          "name": "stdout",
          "text": [
            "Hello, World!\n"
          ]
        }
      ]
    },
    {
      "cell_type": "markdown",
      "source": [
        "2.Write a Python program that displays your name and age"
      ],
      "metadata": {
        "id": "isW89PmmmRvS"
      }
    },
    {
      "cell_type": "code",
      "source": [
        "#Answer\n",
        "name=\"Nitesh\"\n",
        "age=\"27\"\n",
        "print('my name is', name)\n",
        "print('I am',age, 'years old')"
      ],
      "metadata": {
        "colab": {
          "base_uri": "https://localhost:8080/"
        },
        "id": "7dwQa87bm4PD",
        "outputId": "d49300d0-13b9-468c-afb5-78a7fadba746"
      },
      "execution_count": 6,
      "outputs": [
        {
          "output_type": "stream",
          "name": "stdout",
          "text": [
            "my name is Nitesh\n",
            "I am 27 years old\n"
          ]
        }
      ]
    },
    {
      "cell_type": "markdown",
      "source": [
        "3.Write code to print all the pre-defined keywords in Python using the keyword library"
      ],
      "metadata": {
        "id": "j-w-noEKpYZX"
      }
    },
    {
      "cell_type": "code",
      "source": [
        "# Import the keyword library\n",
        "import keyword\n",
        "\n",
        "# list of Python keywords\n",
        "print(\"List of Python keywords:\")\n",
        "for kw in keyword.kwlist:\n",
        "    print(kw)\n"
      ],
      "metadata": {
        "colab": {
          "base_uri": "https://localhost:8080/"
        },
        "id": "w5v4g2auqZSq",
        "outputId": "847b31c2-068d-4b93-9846-14d049afa9e2"
      },
      "execution_count": 13,
      "outputs": [
        {
          "output_type": "stream",
          "name": "stdout",
          "text": [
            "List of Python keywords:\n",
            "False\n",
            "None\n",
            "True\n",
            "and\n",
            "as\n",
            "assert\n",
            "async\n",
            "await\n",
            "break\n",
            "class\n",
            "continue\n",
            "def\n",
            "del\n",
            "elif\n",
            "else\n",
            "except\n",
            "finally\n",
            "for\n",
            "from\n",
            "global\n",
            "if\n",
            "import\n",
            "in\n",
            "is\n",
            "lambda\n",
            "nonlocal\n",
            "not\n",
            "or\n",
            "pass\n",
            "raise\n",
            "return\n",
            "try\n",
            "while\n",
            "with\n",
            "yield\n"
          ]
        }
      ]
    },
    {
      "cell_type": "markdown",
      "source": [
        "4.Write a program that checks if a given word is a Python keyword."
      ],
      "metadata": {
        "id": "VWIeny4a31ce"
      }
    },
    {
      "cell_type": "code",
      "source": [
        "def is_keyword(word):\n",
        "    return keyword.iskeyword(word)\n",
        "word = input(\"Enter a word: \")\n",
        "if is_keyword(word):\n",
        "    print(f\"'{word}' is a Python keyword.\")\n",
        "else:\n",
        "    print(f\"'{word}' is not a Python keyword.\")"
      ],
      "metadata": {
        "colab": {
          "base_uri": "https://localhost:8080/"
        },
        "id": "S8hTq4vX442w",
        "outputId": "58d157df-24df-4a75-95c7-a9718c6a09d1"
      },
      "execution_count": 14,
      "outputs": [
        {
          "output_type": "stream",
          "name": "stdout",
          "text": [
            "Enter a word: with\n",
            "'with' is a Python keyword.\n"
          ]
        }
      ]
    },
    {
      "cell_type": "markdown",
      "source": [],
      "metadata": {
        "id": "B4VFjbzz5gjC"
      }
    },
    {
      "cell_type": "markdown",
      "source": [
        "5.Create a list and tuple in Python, and demonstrate how attempting to change an element works differently\n",
        "for each"
      ],
      "metadata": {
        "id": "m1PJnkGS5i6L"
      }
    },
    {
      "cell_type": "code",
      "source": [
        "my_list = [10, 20, 30]\n",
        "my_tuple = (10, 20, 30)\n",
        "print(\"Original list:\", my_list)\n",
        "my_list[1] = 200\n",
        "print(\"Modified list:\", my_list)\n",
        "print(\"\\nOriginal tuple:\", my_tuple)\n",
        "try:\n",
        "    my_tuple[1] = 200\n",
        "except TypeError as e:\n",
        "    print(\"Error:\", e)"
      ],
      "metadata": {
        "colab": {
          "base_uri": "https://localhost:8080/"
        },
        "id": "v-r9W-2o5po3",
        "outputId": "280ea91d-49c3-4818-c323-c85a2e00a884"
      },
      "execution_count": 15,
      "outputs": [
        {
          "output_type": "stream",
          "name": "stdout",
          "text": [
            "Original list: [10, 20, 30]\n",
            "Modified list: [10, 200, 30]\n",
            "\n",
            "Original tuple: (10, 20, 30)\n",
            "Error: 'tuple' object does not support item assignment\n"
          ]
        }
      ]
    },
    {
      "cell_type": "markdown",
      "source": [
        "6.Write a function to demonstrate the behavior of mutable and immutable arguments"
      ],
      "metadata": {
        "id": "yqFkoBls8tZf"
      }
    },
    {
      "cell_type": "code",
      "source": [
        "\n",
        "def modify_data(mutable_list, immutable_number):\n",
        "\n",
        "    mutable_list.append(100)\n",
        "    print(\"Inside function (after modification):\", mutable_list)\n",
        "\n",
        "\n",
        "    immutable_number += 10\n",
        "    print(\"Inside function (after modification):\", immutable_number)\n",
        "\n",
        "\n",
        "my_list = [1, 2, 3]\n",
        "my_number = 5\n",
        "\n",
        "print(\"Before function call (list):\", my_list)\n",
        "print(\"Before function call (number):\", my_number)\n",
        "\n",
        "\n",
        "modify_data(my_list, my_number)\n",
        "\n",
        "print(\"\\nAfter function call (list):\", my_list)\n",
        "print(\"After function call (number):\", my_number)\n"
      ],
      "metadata": {
        "colab": {
          "base_uri": "https://localhost:8080/"
        },
        "id": "p38S6aph8w4g",
        "outputId": "e63de0a3-6e6e-4711-a06b-6a965dc34cbb"
      },
      "execution_count": 20,
      "outputs": [
        {
          "output_type": "stream",
          "name": "stdout",
          "text": [
            "Before function call (list): [1, 2, 3]\n",
            "Before function call (number): 5\n",
            "Inside function (after modification): [1, 2, 3, 100]\n",
            "Inside function (after modification): 15\n",
            "\n",
            "After function call (list): [1, 2, 3, 100]\n",
            "After function call (number): 5\n"
          ]
        }
      ]
    },
    {
      "cell_type": "markdown",
      "source": [
        "7.Write a function to demonstrate the behavior of mutable and immutable arguments."
      ],
      "metadata": {
        "id": "83MEiINF91Mv"
      }
    },
    {
      "cell_type": "code",
      "source": [
        "def modify_data(mutable_list, immutable_number):\n",
        "\n",
        "    mutable_list.append(100)\n",
        "    print(\"Inside function (after modification):\", mutable_list)\n",
        "\n",
        "\n",
        "    immutable_number += 10\n",
        "    print(\"Inside function (after modification):\", immutable_number)\n",
        "\n",
        "\n",
        "my_list = [1, 2, 3]\n",
        "my_number = 5\n",
        "\n",
        "print(\"Before function call (list):\", my_list)\n",
        "print(\"Before function call (number):\", my_number)\n",
        "\n",
        "\n",
        "modify_data(my_list, my_number)\n",
        "\n",
        "print(\"\\nAfter function call (list):\", my_list)\n",
        "print(\"After function call (number):\", my_number)"
      ],
      "metadata": {
        "colab": {
          "base_uri": "https://localhost:8080/"
        },
        "id": "nRYF2sGb982i",
        "outputId": "afe38e5e-3cf6-4dcd-954d-206bcab2f188"
      },
      "execution_count": 33,
      "outputs": [
        {
          "output_type": "stream",
          "name": "stdout",
          "text": [
            "Before function call (list): [1, 2, 3]\n",
            "Before function call (number): 5\n",
            "Inside function (after modification): [1, 2, 3, 100]\n",
            "Inside function (after modification): 15\n",
            "\n",
            "After function call (list): [1, 2, 3, 100]\n",
            "After function call (number): 5\n"
          ]
        }
      ]
    },
    {
      "cell_type": "markdown",
      "source": [
        "8.Write a function to demonstrate the behavior of mutable and immutable arguments."
      ],
      "metadata": {
        "id": "VQQUgh6T979e"
      }
    },
    {
      "cell_type": "code",
      "source": [
        "\n",
        "def modify_arguments(mutable_obj, immutable_obj):\n",
        "\n",
        "    mutable_obj.append(100)\n",
        "    print(\"Inside function - mutable object:\", mutable_obj)\n",
        "\n",
        "\n",
        "    immutable_obj += 10\n",
        "    print(\"Inside function - immutable object:\", immutable_obj)\n",
        "\n",
        "my_list = [1, 2, 3]\n",
        "my_number = 5\n",
        "\n",
        "print(\"Before function call - mutable object:\", my_list)\n",
        "print(\"Before function call - immutable object:\", my_number)\n",
        "\n",
        "modify_arguments(my_list, my_number)\n",
        "\n",
        "\n",
        "print(\"\\nAfter function call - mutable object:\", my_list)\n",
        "print(\"After function call - immutable object:\", my_number)\n"
      ],
      "metadata": {
        "colab": {
          "base_uri": "https://localhost:8080/"
        },
        "id": "JQQkvbi2-vR-",
        "outputId": "dca8dd07-fd9e-411c-8b5a-8e66659f3f76"
      },
      "execution_count": 19,
      "outputs": [
        {
          "output_type": "stream",
          "name": "stdout",
          "text": [
            "Before function call - mutable object: [1, 2, 3]\n",
            "Before function call - immutable object: 5\n",
            "Inside function - mutable object: [1, 2, 3, 100]\n",
            "Inside function - immutable object: 15\n",
            "\n",
            "After function call - mutable object: [1, 2, 3, 100]\n",
            "After function call - immutable object: 5\n"
          ]
        }
      ]
    },
    {
      "cell_type": "markdown",
      "source": [
        "9.Write a Python program to convert user input from string to integer, float, and boolean types.\n"
      ],
      "metadata": {
        "id": "Q6DnoayB-69H"
      }
    },
    {
      "cell_type": "code",
      "source": [
        "\n",
        "def convert_input():\n",
        "\n",
        "    user_input = input(\"Enter a value: \")\n",
        "\n",
        "    try:\n",
        "\n",
        "        int_value = int(user_input)\n",
        "        print(\"Integer value:\", int_value)\n",
        "    except ValueError:\n",
        "        print(\"Cannot convert to integer.\")\n",
        "\n",
        "    try:\n",
        "\n",
        "        float_value = float(user_input)\n",
        "        print(\"Float value:\", float_value)\n",
        "    except ValueError:\n",
        "        print(\"Cannot convert to float.\")\n",
        "\n",
        "\n",
        "    if user_input.lower() in ['true', '1', 'yes']:\n",
        "        bool_value = True\n",
        "    elif user_input.lower() in ['false', '0', 'no']:\n",
        "        bool_value = False\n",
        "    else:\n",
        "        bool_value = bool(user_input)\n",
        "    print(\"Boolean value:\", bool_value)\n",
        "\n",
        "\n",
        "convert_input()\n"
      ],
      "metadata": {
        "colab": {
          "base_uri": "https://localhost:8080/"
        },
        "id": "Gylr8o1l-_g1",
        "outputId": "3f22bf7a-ff5b-4705-96a6-c8e865cc5450"
      },
      "execution_count": 21,
      "outputs": [
        {
          "output_type": "stream",
          "name": "stdout",
          "text": [
            "Enter a value: 1\n",
            "Integer value: 1\n",
            "Float value: 1.0\n",
            "Boolean value: True\n"
          ]
        }
      ]
    },
    {
      "cell_type": "markdown",
      "source": [
        "10.Write code to demonstrate type casting with list elements."
      ],
      "metadata": {
        "id": "uC16E6Il_FXx"
      }
    },
    {
      "cell_type": "code",
      "source": [
        "\n",
        "def type_casting_with_list():\n",
        "\n",
        "    mixed_list = [1, 2.5, '3', True]\n",
        "    print(\"Original list:\", mixed_list)\n",
        "\n",
        "\n",
        "    int_list = [int(x) if isinstance(x, (float, bool)) else int(x) for x in mixed_list]\n",
        "    print(\"List after converting all elements to integers:\", int_list)\n",
        "\n",
        "\n",
        "    float_list = [float(x) for x in mixed_list]\n",
        "    print(\"List after converting all elements to floats:\", float_list)\n",
        "\n",
        "\n",
        "    str_list = [str(x) for x in mixed_list]\n",
        "    print(\"List after converting all elements to strings:\", str_list)\n",
        "\n",
        "\n",
        "type_casting_with_list()\n"
      ],
      "metadata": {
        "colab": {
          "base_uri": "https://localhost:8080/"
        },
        "id": "DA4hzfNFE8u7",
        "outputId": "a7c9adeb-e050-43bb-d5de-63d7cca46b7c"
      },
      "execution_count": 40,
      "outputs": [
        {
          "output_type": "stream",
          "name": "stdout",
          "text": [
            "Original list: [1, 2.5, '3', True]\n",
            "List after converting all elements to integers: [1, 2, 3, 1]\n",
            "List after converting all elements to floats: [1.0, 2.5, 3.0, 1.0]\n",
            "List after converting all elements to strings: ['1', '2.5', '3', 'True']\n"
          ]
        }
      ]
    },
    {
      "cell_type": "markdown",
      "source": [
        "11.0 Write a program that checks if a number is positive, negative, or zero."
      ],
      "metadata": {
        "id": "Sh68DUFcF42N"
      }
    },
    {
      "cell_type": "code",
      "source": [
        "\n",
        "def check_number():\n",
        "\n",
        "    num = float(input(\"Enter a number: \"))\n",
        "\n",
        "\n",
        "    if num > 0:\n",
        "        print(f\"{num} is a positive number.\")\n",
        "    elif num < 0:\n",
        "        print(f\"{num} is a negative number.\")\n",
        "    else:\n",
        "        print(f\"{num} is zero.\")\n",
        "\n",
        "check_number()\n",
        "\n"
      ],
      "metadata": {
        "colab": {
          "base_uri": "https://localhost:8080/"
        },
        "id": "LVwWhUnpGEnp",
        "outputId": "31d4177f-9f2c-4507-f0ed-63aaf31a0f1d"
      },
      "execution_count": 31,
      "outputs": [
        {
          "output_type": "stream",
          "name": "stdout",
          "text": [
            "Enter a number: 3\n",
            "3.0 is a positive number.\n"
          ]
        }
      ]
    },
    {
      "cell_type": "markdown",
      "source": [
        "\n",
        "12. Write a for loop to print numbers from 1 to 100"
      ],
      "metadata": {
        "id": "5JHDz1oTEGiN"
      }
    },
    {
      "cell_type": "code",
      "source": [
        "for num in range(1, 101):\n",
        "    print(num)\n"
      ],
      "metadata": {
        "colab": {
          "base_uri": "https://localhost:8080/"
        },
        "id": "G8lIkc26Ef9_",
        "outputId": "786b31ec-7798-4881-e873-660941d639ed"
      },
      "execution_count": 32,
      "outputs": [
        {
          "output_type": "stream",
          "name": "stdout",
          "text": [
            "1\n",
            "2\n",
            "3\n",
            "4\n",
            "5\n",
            "6\n",
            "7\n",
            "8\n",
            "9\n",
            "10\n",
            "11\n",
            "12\n",
            "13\n",
            "14\n",
            "15\n",
            "16\n",
            "17\n",
            "18\n",
            "19\n",
            "20\n",
            "21\n",
            "22\n",
            "23\n",
            "24\n",
            "25\n",
            "26\n",
            "27\n",
            "28\n",
            "29\n",
            "30\n",
            "31\n",
            "32\n",
            "33\n",
            "34\n",
            "35\n",
            "36\n",
            "37\n",
            "38\n",
            "39\n",
            "40\n",
            "41\n",
            "42\n",
            "43\n",
            "44\n",
            "45\n",
            "46\n",
            "47\n",
            "48\n",
            "49\n",
            "50\n",
            "51\n",
            "52\n",
            "53\n",
            "54\n",
            "55\n",
            "56\n",
            "57\n",
            "58\n",
            "59\n",
            "60\n",
            "61\n",
            "62\n",
            "63\n",
            "64\n",
            "65\n",
            "66\n",
            "67\n",
            "68\n",
            "69\n",
            "70\n",
            "71\n",
            "72\n",
            "73\n",
            "74\n",
            "75\n",
            "76\n",
            "77\n",
            "78\n",
            "79\n",
            "80\n",
            "81\n",
            "82\n",
            "83\n",
            "84\n",
            "85\n",
            "86\n",
            "87\n",
            "88\n",
            "89\n",
            "90\n",
            "91\n",
            "92\n",
            "93\n",
            "94\n",
            "95\n",
            "96\n",
            "97\n",
            "98\n",
            "99\n",
            "100\n"
          ]
        }
      ]
    },
    {
      "cell_type": "markdown",
      "source": [
        "13.Write a Python program to find the sum of all even numbers between 1 and 500"
      ],
      "metadata": {
        "id": "nZ6g7vfsHYD-"
      }
    },
    {
      "cell_type": "code",
      "source": [
        "\n",
        "def sum_of_even_numbers():\n",
        "    total_sum = 0\n",
        "    for num in range(2, 501, 2):\n",
        "        total_sum += num\n",
        "    return total_sum\n",
        "\n",
        "\n",
        "result = sum_of_even_numbers()\n",
        "print(\"The sum of all even numbers between 1 and 500 is:\", result)\n"
      ],
      "metadata": {
        "colab": {
          "base_uri": "https://localhost:8080/"
        },
        "id": "sXKRWSgdHepM",
        "outputId": "3ae58edc-c85b-4811-ed1d-5bd80b7b5830"
      },
      "execution_count": 34,
      "outputs": [
        {
          "output_type": "stream",
          "name": "stdout",
          "text": [
            "The sum of all even numbers between 1 and 500 is: 62750\n"
          ]
        }
      ]
    },
    {
      "cell_type": "markdown",
      "source": [
        "14.0 Write a program to reverse a string using a while loop."
      ],
      "metadata": {
        "id": "44REYQCPH0Oq"
      }
    },
    {
      "cell_type": "code",
      "source": [
        "\n",
        "def reverse_string(input_string):\n",
        "    reversed_string = \"\"\n",
        "    index = len(input_string) - 1\n",
        "\n",
        "\n",
        "    while index >= 0:\n",
        "        reversed_string += input_string[index]\n",
        "        index -= 1\n",
        "\n",
        "    return reversed_string\n",
        "\n",
        "\n",
        "string = input(\"Enter a string: \")\n",
        "\n",
        "\n",
        "reversed_str = reverse_string(string)\n",
        "print(\"Reversed string:\", reversed_str)\n"
      ],
      "metadata": {
        "colab": {
          "base_uri": "https://localhost:8080/"
        },
        "id": "UkgMhP6RH7P9",
        "outputId": "a611d047-bfa3-4618-8198-211a078b4e9e"
      },
      "execution_count": 36,
      "outputs": [
        {
          "output_type": "stream",
          "name": "stdout",
          "text": [
            "Enter a string: 6\n",
            "Reversed string: 6\n"
          ]
        }
      ]
    },
    {
      "cell_type": "markdown",
      "source": [
        "15.Write a Python program to calculate the factorial of a number provided by the user using a while loop."
      ],
      "metadata": {
        "id": "wsdjG_6ZIMml"
      }
    },
    {
      "cell_type": "code",
      "source": [
        "\n",
        "def factorial(n):\n",
        "    result = 1\n",
        "    while n > 1:\n",
        "        result *= n\n",
        "        n -= 1\n",
        "    return result\n",
        "\n",
        "\n",
        "num = int(input(\"Enter a number: \"))\n",
        "\n",
        "\n",
        "if num < 0:\n",
        "    print(\"Factorial is not defined for negative numbers.\")\n",
        "else:\n",
        "    print(f\"The factorial of {num} is {factorial(num)}\")\n"
      ],
      "metadata": {
        "colab": {
          "base_uri": "https://localhost:8080/"
        },
        "id": "fbsbeZmdISIK",
        "outputId": "0b7b5137-407a-4bbb-ae76-ed2b166a3788"
      },
      "execution_count": 37,
      "outputs": [
        {
          "output_type": "stream",
          "name": "stdout",
          "text": [
            "Enter a number: 2\n",
            "The factorial of 2 is 2\n"
          ]
        }
      ]
    },
    {
      "cell_type": "code",
      "source": [],
      "metadata": {
        "id": "FogAYgxJIFOq"
      },
      "execution_count": null,
      "outputs": []
    }
  ]
}